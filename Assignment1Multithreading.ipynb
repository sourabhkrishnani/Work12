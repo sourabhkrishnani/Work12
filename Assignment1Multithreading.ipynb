{
 "cells": [
  {
   "cell_type": "code",
   "execution_count": 7,
   "id": "27019408-a7d6-4cb9-b2e0-e172238825e6",
   "metadata": {},
   "outputs": [],
   "source": [
    "#Q1"
   ]
  },
  {
   "cell_type": "markdown",
   "id": "5261bdf4-b943-4634-b43c-02f6f2bbf67d",
   "metadata": {},
   "source": [
    "Multithreading in Python refers to the concurrent execution of multiple threads within a single process. A thread is the smallest unit of execution within a program, and multithreading allows multiple threads to share the same resources, such as memory space and file handles, while executing concurrently.\n",
    "\n",
    "Multithreading is used to achieve concurrent execution, enabling a program to perform multiple tasks simultaneously. This can lead to improved performance, especially in situations where tasks are I/O-bound (waiting for input/output operations like reading/writing files or network communication) rather than CPU-bound (requiring intense computational processing).\n",
    "\n",
    "However, Python's Global Interpreter Lock (GIL) can limit the full potential of multithreading, particularly when dealing with CPU-bound tasks. The GIL restricts the execution of multiple threads in CPython (the most commonly used Python implementation) to a single thread at a time, which can impact the parallel processing of CPU-bound tasks.\n",
    "\n",
    "The module used to handle threads in Python is called `threading`. This module provides a way to create, manage, and synchronize threads. It allows you to create and start threads, control their execution, and coordinate their actions. However, due to the GIL limitations, the `threading` module is more suitable for I/O-bound tasks or situations where you need to manage multiple tasks concurrently, even if they're not performing CPU-intensive calculations. For CPU-bound tasks, using multiprocessing or asynchronous programming techniques might be more appropriate."
   ]
  },
  {
   "cell_type": "code",
   "execution_count": 8,
   "id": "cd4d8dcd-1739-4ceb-b353-643db4163875",
   "metadata": {},
   "outputs": [
    {
     "name": "stdout",
     "output_type": "stream",
     "text": [
      "Number: 1\n",
      "Letter: a\n",
      "Number: 2\n",
      "Letter: b\n",
      "Number: 3\n",
      "Letter: c\n",
      "Number: 4\n",
      "Letter: d\n",
      "Number: 5\n",
      "Letter: e\n",
      "Both threads have finished\n"
     ]
    }
   ],
   "source": [
    "def print_numbers():\n",
    "    for i in range(1, 6):\n",
    "        print(\"Number:\", i)\n",
    "        time.sleep(1)\n",
    "\n",
    "def print_letters():\n",
    "    for letter in 'abcde':\n",
    "        print(\"Letter:\", letter)\n",
    "        time.sleep(1)\n",
    "\n",
    "# Create two thread objects\n",
    "thread1 = threading.Thread(target=print_numbers)\n",
    "thread2 = threading.Thread(target=print_letters)\n",
    "\n",
    "# Start the threads\n",
    "thread1.start()\n",
    "thread2.start()\n",
    "\n",
    "# Wait for both threads to finish\n",
    "thread1.join()\n",
    "thread2.join()\n",
    "\n",
    "print(\"Both threads have finished\")\n"
   ]
  },
  {
   "cell_type": "code",
   "execution_count": 2,
   "id": "e4b78380-eccd-44d2-9ba5-76539ee9daa3",
   "metadata": {},
   "outputs": [],
   "source": [
    "#Q2"
   ]
  },
  {
   "cell_type": "markdown",
   "id": "f2e9fb7f-e21b-42d0-b0b1-a6f8267a1b70",
   "metadata": {},
   "source": [
    "The `threading` module in Python is used for creating and managing threads in a multi-threaded environment. It provides a high-level interface for creating and managing threads, allowing you to perform concurrent operations within a single process. Threads created using the `threading` module can share data and resources while running concurrently, which can lead to improved performance in certain scenarios, such as I/O-bound tasks.\n",
    "\n",
    "Here are the descriptions of the functions you've mentioned from the `threading` module:\n",
    "\n",
    "1. `activeCount()`: This function returns the number of Thread objects currently alive. It provides a count of active threads in the program, including the main thread and any other threads that have been created.\n",
    "\n",
    "2. `currentThread()`: This function returns the current Thread object corresponding to the caller's thread of control. It's useful for obtaining a reference to the currently executing thread. \n",
    "\n",
    "3. `enumerate()`: This function returns a list of all currently active Thread objects. It's a convenient way to get a list of all the threads currently running in your program."
   ]
  },
  {
   "cell_type": "code",
   "execution_count": 11,
   "id": "39f37091-857c-45cd-a3aa-b0f73b02cfbb",
   "metadata": {},
   "outputs": [
    {
     "name": "stdout",
     "output_type": "stream",
     "text": [
      "Thread started: Thread-25 (worker)\n",
      "Thread started: Thread-26 (worker)\n",
      "Active threads: 10\n",
      "Current thread: MainThread\n",
      "Active thread objects: [<_MainThread(MainThread, started 139788097800000)>, <Thread(IOPub, started daemon 139788027270720)>, <Heartbeat(Heartbeat, started daemon 139788018878016)>, <Thread(Thread-3 (_watch_pipe_fd), started daemon 139787993699904)>, <Thread(Thread-4 (_watch_pipe_fd), started daemon 139787985307200)>, <ControlThread(Control, started daemon 139787976914496)>, <HistorySavingThread(IPythonHistorySavingThread, started 139787495274048)>, <ParentPollerUnix(Thread-2, started daemon 139787486881344)>, <Thread(Thread-25 (worker), started 139787470095936)>, <Thread(Thread-26 (worker), started 139787478488640)>]\n",
      "Thread ended:Thread ended: Thread-26 (worker)\n",
      " Thread-25 (worker)\n",
      "Both threads have finished\n"
     ]
    }
   ],
   "source": [
    "import threading\n",
    "import time\n",
    "\n",
    "def worker():\n",
    "    print(\"Thread started:\", threading.current_thread().name)\n",
    "    time.sleep(2)\n",
    "    print(\"Thread ended:\", threading.current_thread().name)\n",
    "\n",
    "# Create and start two threads\n",
    "thread1 = threading.Thread(target=worker)\n",
    "thread2 = threading.Thread(target=worker)\n",
    "thread1.start()\n",
    "thread2.start()\n",
    "\n",
    "# Print the number of active threads\n",
    "print(\"Active threads:\", threading.active_count())\n",
    "\n",
    "# Print information about the current thread\n",
    "print(\"Current thread:\", threading.current_thread().name)\n",
    "\n",
    "# Print a list of all currently active threads\n",
    "print(\"Active thread objects:\", threading.enumerate())\n",
    "\n",
    "# Wait for both threads to finish\n",
    "thread1.join()\n",
    "thread2.join()\n",
    "\n",
    "print(\"Both threads have finished\")\n",
    "\n"
   ]
  },
  {
   "cell_type": "code",
   "execution_count": 3,
   "id": "f6642599-8157-4e91-b238-18567b0ec9e5",
   "metadata": {},
   "outputs": [],
   "source": [
    "#Q3"
   ]
  },
  {
   "cell_type": "markdown",
   "id": "bfe5059c-bd71-4562-87f0-2b2abc3b34f0",
   "metadata": {},
   "source": [
    "run(): This is a method that you can override in your custom thread class. It represents the entry point for the thread's execution when you call the start() method. You define the actions you want the thread to perform within this method. By default, the run() method calls the target function provided during the thread's creation using the Thread class.\n",
    "\n",
    "start(): This method is used to start the execution of the thread. When you call start() on a Thread object, it initiates the thread's run() method. It doesn't immediately run the run() method but rather schedules it to be executed in the near future. Once the thread is started, it runs concurrently with other threads.\n",
    "\n",
    "join(): This method is used to wait for the thread to finish its execution. When you call join() on a Thread object, the calling thread (usually the main thread) will pause and wait for the specified thread to complete. This is useful for ensuring that the main thread doesn't proceed until the thread being joined has completed its task.\n",
    "\n",
    "is_alive(): This method is used to determine if a thread is currently running or active. It returns True if the thread is still executing its task and has not yet finished, and False otherwise. This method is often used in situations where you want to check the status of a thread before performing certain actions."
   ]
  },
  {
   "cell_type": "code",
   "execution_count": 12,
   "id": "241400a6-a5d8-4859-a80b-a0489411a7a8",
   "metadata": {},
   "outputs": [
    {
     "name": "stdout",
     "output_type": "stream",
     "text": [
      "Thread started: Thread-27 (worker)\n",
      "Is thread alive? True\n",
      "Thread ended: Thread-27 (worker)\n",
      "Is thread alive? False\n",
      "Main thread finished\n"
     ]
    }
   ],
   "source": [
    "import threading\n",
    "import time\n",
    "\n",
    "def worker():\n",
    "    print(\"Thread started:\", threading.current_thread().name)\n",
    "    time.sleep(2)\n",
    "    print(\"Thread ended:\", threading.current_thread().name)\n",
    "\n",
    "# Create and start a thread\n",
    "thread1 = threading.Thread(target=worker)\n",
    "thread1.start()\n",
    "\n",
    "# Check if the thread is alive\n",
    "print(\"Is thread alive?\", thread1.is_alive())\n",
    "\n",
    "# Wait for the thread to finish\n",
    "thread1.join()\n",
    "\n",
    "# Check if the thread is alive after joining\n",
    "print(\"Is thread alive?\", thread1.is_alive())\n",
    "\n",
    "print(\"Main thread finished\")\n"
   ]
  },
  {
   "cell_type": "code",
   "execution_count": 4,
   "id": "4776fe66-c2c5-4007-8269-920fb0f0e0e9",
   "metadata": {},
   "outputs": [],
   "source": [
    "#Q4"
   ]
  },
  {
   "cell_type": "code",
   "execution_count": 51,
   "id": "f8727b5d-cccb-41ad-9523-139d57f6e491",
   "metadata": {},
   "outputs": [
    {
     "name": "stdout",
     "output_type": "stream",
     "text": [
      "Square: 121\n",
      "Cube: 1000\n",
      "Done!\n"
     ]
    }
   ],
   "source": [
    "import threading\n",
    "\n",
    "\n",
    "def print_cube(num):\n",
    "\tprint(\"Cube: {}\" .format(num * num * num))\n",
    "\n",
    "\n",
    "def print_square(num):\n",
    "\tprint(\"Square: {}\" .format(num * num))\n",
    "\n",
    "\n",
    "if __name__ ==\"__main__\":\n",
    "\tt1 = threading.Thread(target=print_square, args=(11,))\n",
    "\tt2 = threading.Thread(target=print_cube, args=(10,))\n",
    "\n",
    "\tt1.start()\n",
    "\tt2.start()\n",
    "\n",
    "\tt1.join()\n",
    "\tt2.join()\n",
    "\n",
    "\tprint(\"Done!\")\n"
   ]
  },
  {
   "cell_type": "code",
   "execution_count": 36,
   "id": "ec3afa5f-25e7-46db-af5a-e39c53a65e18",
   "metadata": {},
   "outputs": [],
   "source": [
    "#Q5"
   ]
  },
  {
   "cell_type": "markdown",
   "id": "cd76176f-8594-4198-8c1f-46c4dc8559e1",
   "metadata": {},
   "source": [
    " Advantages:\n",
    "Improved performance: Multithreading can help increase the overall performance of an application, especially on systems with multiple processors or cores. It allows multiple tasks to run concurrently, utilizing the available CPU resources more efficiently.\n",
    "\n",
    "Responsiveness: In a single-threaded environment, if a long-running task blocks the main thread, the entire application becomes unresponsive. Multithreading can prevent this issue by running such tasks in separate threads, ensuring the application remains responsive.\n",
    "\n",
    "Better resource utilization: Multithreading allows better utilization of system resources by keeping the CPU busy while waiting for I/O operations or other tasks to complete.\n",
    "\n",
    "Simplified modeling: Some problems can be more naturally modeled using multiple threads. This makes the program easier to design, understand, and maintain.\n",
    "\n",
    "Parallelism: Multithreading enables parallelism, which can lead to significant performance improvements in applications that can be divided into smaller, independent tasks."
   ]
  },
  {
   "cell_type": "code",
   "execution_count": 54,
   "id": "238972e9-7269-4614-b320-24fae614d2a2",
   "metadata": {},
   "outputs": [
    {
     "name": "stdout",
     "output_type": "stream",
     "text": [
      "Sum of numbers from 1 to 5000: 12502500\n",
      "Sum of numbers from 5001 to 10000: 37502500\n",
      "Time taken for concurrent execution: 0.007435321807861328 seconds\n",
      "Main thread is still responsive\n",
      "Slow task completed\n",
      "Main thread finished\n",
      "Processed data: [2, 4, 6, 8, 10]\n",
      "Processed data: [2, 4, 6, 8, 10]\n",
      "Processed data: [2, 4, 6, 8, 10]\n"
     ]
    }
   ],
   "source": [
    "import threading\n",
    "import time\n",
    "\n",
    "# Example 1: Improved Performance\n",
    "def calculate_sum(start, end):\n",
    "    total = sum(range(start, end + 1))\n",
    "    print(f\"Sum of numbers from {start} to {end}: {total}\")\n",
    "\n",
    "# Create two threads to calculate sums concurrently\n",
    "thread1 = threading.Thread(target=calculate_sum, args=(1, 5000))\n",
    "thread2 = threading.Thread(target=calculate_sum, args=(5001, 10000))\n",
    "\n",
    "start_time = time.time()\n",
    "\n",
    "# Start the threads\n",
    "thread1.start()\n",
    "thread2.start()\n",
    "\n",
    "# Wait for both threads to finish\n",
    "thread1.join()\n",
    "thread2.join()\n",
    "\n",
    "end_time = time.time()\n",
    "print(f\"Time taken for concurrent execution: {end_time - start_time} seconds\")\n",
    "\n",
    "# Example 2: Responsiveness\n",
    "def slow_task():\n",
    "    time.sleep(3)\n",
    "    print(\"Slow task completed\")\n",
    "\n",
    "# Create a thread for a slow task\n",
    "slow_thread = threading.Thread(target=slow_task)\n",
    "\n",
    "# Start the slow task thread while the main thread continues\n",
    "slow_thread.start()\n",
    "\n",
    "# Main thread can do other work or remain responsive to user input\n",
    "print(\"Main thread is still responsive\")\n",
    "\n",
    "# Wait for the slow task thread to finish\n",
    "slow_thread.join()\n",
    "\n",
    "print(\"Main thread finished\")\n",
    "\n",
    "# Example 3: Parallelism\n",
    "def worker_function(data):\n",
    "    result = [item * 2 for item in data]\n",
    "    print(f\"Processed data: {result}\")\n",
    "\n",
    "# Create multiple worker threads to process data in parallel\n",
    "data = [1, 2, 3, 4, 5]\n",
    "threads = [threading.Thread(target=worker_function, args=(data,)) for _ in range(3)]\n",
    "\n",
    "# Start all worker threads\n",
    "for thread in threads:\n",
    "    thread.start()\n",
    "\n",
    "# Wait for all worker threads to finish\n",
    "for thread in threads:\n",
    "    thread.join()\n"
   ]
  },
  {
   "cell_type": "markdown",
   "id": "6b5c8a8d-cd30-4f60-ba4a-07a361fd0b50",
   "metadata": {},
   "source": [
    "Disadvantages:\n",
    "\n",
    "Complexity: Multithreading adds complexity to the program, making it more difficult to design, implement, and debug. Developers need to be aware of synchronization, deadlocks, race conditions, and other concurrency-related issues.\n",
    "\n",
    "Synchronization overhead: To avoid data corruption and maintain consistency, developers must synchronize access to shared resources, which can result in additional overhead and reduced performance.\n",
    "\n",
    "Context switching: Context switching between threads consumes CPU time and resources, which can lead to performance degradation if not managed efficiently.\n",
    "\n",
    "Hard to predict behavior: Due to the concurrent nature of multithreading, the behavior of the program can be hard to predict and reproduce, especially when it comes to debugging.\n",
    "\n",
    "Limited by hardware: The performance benefits of multithreading are limited by the number of available cores or processors in the system. In some cases, excessive use of threads can lead to performance degradation instead of improvement."
   ]
  },
  {
   "cell_type": "code",
   "execution_count": 55,
   "id": "bf20854c-1874-4884-a2d6-48ca51c8e3ec",
   "metadata": {},
   "outputs": [
    {
     "name": "stdout",
     "output_type": "stream",
     "text": [
      "Shared variable value: 2000000\n",
      "Thread 1 acquired lock1\n",
      "Thread 1 acquired lock2\n",
      "Thread 2 acquired lock2\n",
      "Thread 2 acquired lock1\n"
     ]
    }
   ],
   "source": [
    "import threading\n",
    "\n",
    "# Example 1: Race Conditions\n",
    "shared_variable = 0\n",
    "\n",
    "def increment_shared_variable():\n",
    "    global shared_variable\n",
    "    for _ in range(1000000):\n",
    "        shared_variable += 1\n",
    "\n",
    "# Create two threads to increment the shared variable\n",
    "thread1 = threading.Thread(target=increment_shared_variable)\n",
    "thread2 = threading.Thread(target=increment_shared_variable)\n",
    "\n",
    "# Start the threads\n",
    "thread1.start()\n",
    "thread2.start()\n",
    "\n",
    "# Wait for both threads to finish\n",
    "thread1.join()\n",
    "thread2.join()\n",
    "\n",
    "print(f\"Shared variable value: {shared_variable}\")\n",
    "\n",
    "# Example 2: Deadlock\n",
    "lock1 = threading.Lock()\n",
    "lock2 = threading.Lock()\n",
    "\n",
    "def function1():\n",
    "    with lock1:\n",
    "        print(\"Thread 1 acquired lock1\")\n",
    "        # Simulate some work\n",
    "        with lock2:\n",
    "            print(\"Thread 1 acquired lock2\")\n",
    "\n",
    "def function2():\n",
    "    with lock2:\n",
    "        print(\"Thread 2 acquired lock2\")\n",
    "        # Simulate some work\n",
    "        with lock1:\n",
    "            print(\"Thread 2 acquired lock1\")\n",
    "\n",
    "# Create two threads\n",
    "thread1 = threading.Thread(target=function1)\n",
    "thread2 = threading.Thread(target=function2)\n",
    "\n",
    "# Start the threads\n",
    "thread1.start()\n",
    "thread2.start()\n",
    "\n",
    "# Wait for both threads to finish (This program will deadlock)\n",
    "thread1.join()\n",
    "thread2.join()\n"
   ]
  },
  {
   "cell_type": "code",
   "execution_count": 6,
   "id": "02f4384e-f55e-4f3b-8471-283ed9558e75",
   "metadata": {},
   "outputs": [],
   "source": [
    "#Q6"
   ]
  },
  {
   "cell_type": "markdown",
   "id": "0e5ba37d-ead0-4d0a-83b0-e7e99e70206c",
   "metadata": {},
   "source": [
    "Deadlock occurs when two or more threads or processes are unable to proceed because they are each waiting for the other to release a resource. This situation leads to a standstill where no progress can be made. A typical scenario involves two or more threads trying to acquire multiple locks in a different order."
   ]
  },
  {
   "cell_type": "code",
   "execution_count": 52,
   "id": "16c76352-89b4-4595-85ac-e8b656cdb457",
   "metadata": {},
   "outputs": [
    {
     "name": "stdout",
     "output_type": "stream",
     "text": [
      "Thread 1 acquired lock1\n",
      "Thread 1 acquired lock2\n",
      "Thread 2 acquired lock2\n",
      "Thread 2 acquired lock1\n"
     ]
    }
   ],
   "source": [
    "import threading\n",
    "\n",
    "lock1 = threading.Lock()\n",
    "lock2 = threading.Lock()\n",
    "\n",
    "def function1():\n",
    "    with lock1:\n",
    "        print(\"Thread 1 acquired lock1\")\n",
    "        with lock2:\n",
    "            print(\"Thread 1 acquired lock2\")\n",
    "\n",
    "def function2():\n",
    "    with lock2:\n",
    "        print(\"Thread 2 acquired lock2\")\n",
    "        with lock1:\n",
    "            print(\"Thread 2 acquired lock1\")\n",
    "\n",
    "thread1 = threading.Thread(target=function1)\n",
    "thread2 = threading.Thread(target=function2)\n",
    "\n",
    "thread1.start()\n",
    "thread2.start()\n",
    "\n",
    "thread1.join()\n",
    "thread2.join()\n"
   ]
  },
  {
   "cell_type": "markdown",
   "id": "09038ef4-9c8d-455f-af96-0ffdcc804d9a",
   "metadata": {},
   "source": [
    "Race conditions occur when multiple threads or processes access shared data concurrently, and the final outcome depends on the timing and order of execution. This can lead to unpredictable and incorrect results.\n",
    "\n",
    "Here's a Python code example illustrating a race condition:"
   ]
  },
  {
   "cell_type": "code",
   "execution_count": 47,
   "id": "ae05de7b-fd07-4c3a-8b3e-9bc34c1be068",
   "metadata": {},
   "outputs": [
    {
     "name": "stdout",
     "output_type": "stream",
     "text": [
      "Final counter value: 2000000\n"
     ]
    }
   ],
   "source": [
    "import threading\n",
    "\n",
    "counter = 0\n",
    "\n",
    "def increment_counter():\n",
    "    global counter\n",
    "    for _ in range(1000000):\n",
    "        counter += 1\n",
    "\n",
    "thread1 = threading.Thread(target=increment_counter)\n",
    "thread2 = threading.Thread(target=increment_counter)\n",
    "\n",
    "thread1.start()\n",
    "thread2.start()\n",
    "\n",
    "thread1.join()\n",
    "thread2.join()\n",
    "\n",
    "print(\"Final counter value:\", counter)\n"
   ]
  },
  {
   "cell_type": "code",
   "execution_count": null,
   "id": "bbe44812-4094-4823-8d92-2d3f1fd04037",
   "metadata": {},
   "outputs": [],
   "source": []
  }
 ],
 "metadata": {
  "kernelspec": {
   "display_name": "Python 3 (ipykernel)",
   "language": "python",
   "name": "python3"
  },
  "language_info": {
   "codemirror_mode": {
    "name": "ipython",
    "version": 3
   },
   "file_extension": ".py",
   "mimetype": "text/x-python",
   "name": "python",
   "nbconvert_exporter": "python",
   "pygments_lexer": "ipython3",
   "version": "3.10.8"
  }
 },
 "nbformat": 4,
 "nbformat_minor": 5
}
